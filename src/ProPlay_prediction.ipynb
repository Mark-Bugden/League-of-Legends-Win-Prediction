{
 "cells": [
  {
   "cell_type": "markdown",
   "id": "19b1e0ca-0918-43e4-a87e-2a67334b5eb0",
   "metadata": {},
   "source": [
    "# Win prediction for League of Legends games\n",
    "# E-sports Predictions\n",
    "In this notebook we make a prediction model to predict the winners of professional matches of League of Legends."
   ]
  },
  {
   "cell_type": "code",
   "execution_count": 4,
   "id": "c16e9baf-83f7-44a5-9d09-689d23bd8724",
   "metadata": {},
   "outputs": [],
   "source": [
    "# Imports\n",
    "\n",
    "import requests\n",
    "from bs4 import BeautifulSoup\n",
    "import pandas as pd\n",
    "import re\n",
    "import pickle \n",
    "import numpy as np\n",
    "import matplotlib.pyplot as plt\n",
    "\n",
    "\n",
    "from sklearn.ensemble import RandomForestClassifier\n",
    "\n",
    "pd.set_option('display.max_columns', 200)\n",
    "pd.set_option('display.max_rows', 40)"
   ]
  },
  {
   "cell_type": "code",
   "execution_count": 2,
   "id": "c544343a-02ac-41a2-976f-016021b08ab8",
   "metadata": {},
   "outputs": [],
   "source": [
    "# Load the npy file produced in the preprocessing notebook\n",
    "with open('../Data collection/ProPlay/game_data.pkl', 'rb') as f:\n",
    "    game_data = pickle.load(f)"
   ]
  },
  {
   "cell_type": "code",
   "execution_count": null,
   "id": "36991b1e-e93c-498e-9ee8-d34f63154ba0",
   "metadata": {},
   "outputs": [],
   "source": []
  },
  {
   "cell_type": "code",
   "execution_count": null,
   "id": "a3a30d21-ce90-41c5-a050-70b39e544469",
   "metadata": {},
   "outputs": [],
   "source": []
  }
 ],
 "metadata": {
  "kernelspec": {
   "display_name": "Python 3 (ipykernel)",
   "language": "python",
   "name": "python3"
  },
  "language_info": {
   "codemirror_mode": {
    "name": "ipython",
    "version": 3
   },
   "file_extension": ".py",
   "mimetype": "text/x-python",
   "name": "python",
   "nbconvert_exporter": "python",
   "pygments_lexer": "ipython3",
   "version": "3.7.13"
  }
 },
 "nbformat": 4,
 "nbformat_minor": 5
}
